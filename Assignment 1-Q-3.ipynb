{
 "cells": [
  {
   "cell_type": "markdown",
   "id": "39e6fab0",
   "metadata": {},
   "source": [
    "# Write a Python program to count the number of even and odd numbers from a series of numbers."
   ]
  },
  {
   "cell_type": "code",
   "execution_count": 1,
   "id": "d52dca72",
   "metadata": {},
   "outputs": [],
   "source": [
    "numbers = (10,11,14,17,22,26,97,83,61)"
   ]
  },
  {
   "cell_type": "code",
   "execution_count": 4,
   "id": "b0d39e85",
   "metadata": {},
   "outputs": [
    {
     "name": "stdout",
     "output_type": "stream",
     "text": [
      "[10, 11, 14, 17, 22, 26, 97, 83, 61]\n"
     ]
    }
   ],
   "source": [
    "my_list = list(numbers)\n",
    "print(my_list)"
   ]
  },
  {
   "cell_type": "code",
   "execution_count": 6,
   "id": "7629f375",
   "metadata": {},
   "outputs": [
    {
     "data": {
      "text/plain": [
       "list"
      ]
     },
     "execution_count": 6,
     "metadata": {},
     "output_type": "execute_result"
    }
   ],
   "source": [
    "type(my_list)"
   ]
  },
  {
   "cell_type": "code",
   "execution_count": 3,
   "id": "2f5bac4f",
   "metadata": {},
   "outputs": [
    {
     "name": "stdout",
     "output_type": "stream",
     "text": [
      "Number of even numbers: 4\n",
      "Number of odd numbers: 5\n"
     ]
    }
   ],
   "source": [
    "no_of_even_numbers = 0 \n",
    "no_of_odd_numbers = 0\n",
    "for num in my_list:\n",
    "    if num % 2 == 0:\n",
    "        no_of_even_numbers += 1\n",
    "    else:\n",
    "        no_of_odd_numbers += 1\n",
    "print(\"Number of even numbers:\", no_of_even_numbers)\n",
    "print(\"Number of odd numbers:\", no_of_odd_numbers)"
   ]
  },
  {
   "cell_type": "markdown",
   "id": "10bf23c2",
   "metadata": {},
   "source": [
    "# ---------------------------------------------------------------------------------------------------------------"
   ]
  },
  {
   "cell_type": "code",
   "execution_count": 9,
   "id": "ac2ce8a4",
   "metadata": {},
   "outputs": [],
   "source": [
    "numbers = (1,2,3,4,5,6,7,8,9)"
   ]
  },
  {
   "cell_type": "code",
   "execution_count": 10,
   "id": "b6294277",
   "metadata": {},
   "outputs": [
    {
     "name": "stdout",
     "output_type": "stream",
     "text": [
      "[1, 2, 3, 4, 5, 6, 7, 8, 9]\n"
     ]
    }
   ],
   "source": [
    "my_list = list(numbers)\n",
    "print(my_list)"
   ]
  },
  {
   "cell_type": "code",
   "execution_count": 11,
   "id": "5b7b7838",
   "metadata": {},
   "outputs": [
    {
     "data": {
      "text/plain": [
       "list"
      ]
     },
     "execution_count": 11,
     "metadata": {},
     "output_type": "execute_result"
    }
   ],
   "source": [
    "type(my_list)"
   ]
  },
  {
   "cell_type": "code",
   "execution_count": 12,
   "id": "34c18aba",
   "metadata": {},
   "outputs": [
    {
     "name": "stdout",
     "output_type": "stream",
     "text": [
      "Number of even numbers: 4\n",
      "Number of odd numbers: 5\n"
     ]
    }
   ],
   "source": [
    "no_of_even_numbers = 0 \n",
    "no_of_odd_numbers = 0\n",
    "for num in my_list:\n",
    "    if num % 2 == 0:\n",
    "        no_of_even_numbers += 1\n",
    "    else:\n",
    "        no_of_odd_numbers += 1\n",
    "print(\"Number of even numbers:\", no_of_even_numbers)\n",
    "print(\"Number of odd numbers:\", no_of_odd_numbers)"
   ]
  },
  {
   "cell_type": "code",
   "execution_count": null,
   "id": "47e53f39",
   "metadata": {},
   "outputs": [],
   "source": []
  }
 ],
 "metadata": {
  "kernelspec": {
   "display_name": "Python 3 (ipykernel)",
   "language": "python",
   "name": "python3"
  },
  "language_info": {
   "codemirror_mode": {
    "name": "ipython",
    "version": 3
   },
   "file_extension": ".py",
   "mimetype": "text/x-python",
   "name": "python",
   "nbconvert_exporter": "python",
   "pygments_lexer": "ipython3",
   "version": "3.11.3"
  }
 },
 "nbformat": 4,
 "nbformat_minor": 5
}
